{
  "nbformat": 4,
  "nbformat_minor": 0,
  "metadata": {
    "colab": {
      "name": "NEURAL NETWORK.ipynb",
      "version": "0.3.2",
      "provenance": [],
      "include_colab_link": true
    },
    "kernelspec": {
      "name": "python3",
      "display_name": "Python 3"
    }
  },
  "cells": [
    {
      "cell_type": "markdown",
      "metadata": {
        "id": "view-in-github",
        "colab_type": "text"
      },
      "source": [
        "<a href=\"https://colab.research.google.com/github/jaspreet145/Raw-Neural-Network/blob/master/NEURAL_NETWORK.ipynb\" target=\"_parent\"><img src=\"https://colab.research.google.com/assets/colab-badge.svg\" alt=\"Open In Colab\"/></a>"
      ]
    },
    {
      "cell_type": "code",
      "metadata": {
        "id": "_ffLxNAhM4-k",
        "colab_type": "code",
        "colab": {}
      },
      "source": [
        "import numpy as np\n",
        "class neural_network:\n",
        "    def __init__(self,input_layer,hidden,output,lr,epoch):\n",
        "        self.input_layer = input_layer\n",
        "        self.out_layer = output\n",
        "        self.hidden_layer = hidden\n",
        "        \n",
        "        self.weight_input = np.random.random((self.input_layer,self.hidden_layer))\n",
        "        self.weight_hidden = np.random.random((self.hidden_layer,self.out_layer))\n",
        "        self.epoch = epoch\n",
        "        self.learn_rate = lr\n",
        "        \n",
        "    def predict(self,x):\n",
        "        output_hidden = self.activation_function(np.dot(x,self.weight_input))\n",
        "        output = self.activation_function(np.dot(output_hidden,self.weight_hidden))\n",
        "        return output\n",
        "        \n",
        "    def activation_function(self,x,deriv = False):\n",
        "        if(deriv==True):\n",
        "            return x*(1-x)\n",
        "        return 1/(1+np.exp(-x))\n",
        "        \n",
        "    def forward_propogate(self,x,y):\n",
        "        output_hidden = self.activation_function(np.dot(x,self.weight_input))\n",
        "        output = self.activation_function(np.dot(output_hidden,self.weight_hidden))\n",
        "        #print(output)\n",
        "        error = y - output\n",
        "        return error,output_hidden,output\n",
        "        \n",
        "    def back_propogate(self,error,out_hidden,out,x):\n",
        "        out_delta = error * self.activation_function(out,True)\n",
        "        self.weight_hidden += (out_hidden.T.dot(out_delta)*self.learn_rate)\n",
        "\n",
        "        hidden_layer_error = out_delta.dot(self.weight_hidden.T)\n",
        "        hidden_delta = hidden_layer_error* self.activation_function(out_hidden,True)\n",
        "\n",
        "        self.weight_input += (x.T.dot(hidden_delta)*self.learn_rate)\n",
        "        \n",
        "    def train(self,x,y):\n",
        "        for _ in range(self.epoch):\n",
        "            error,output_hidden,output = self.forward_propogate(x,y)\n",
        "            self.back_propogate(error,output_hidden,output,x)        "
      ],
      "execution_count": 0,
      "outputs": []
    },
    {
      "cell_type": "code",
      "metadata": {
        "id": "ewsYO-_5OCGo",
        "colab_type": "code",
        "colab": {}
      },
      "source": [
        "#random data\n",
        "x = np.array([[1,1,0],\n",
        "             [1,0,1],\n",
        "             [0,0,1],\n",
        "             [0,1,0]])\n",
        "\n",
        "y = np.array([[1],[0],[0],[1]])\n",
        "\n",
        "clf = neural_network(3,10,1,0.3,1000)\n",
        "clf.train(x,y)"
      ],
      "execution_count": 0,
      "outputs": []
    },
    {
      "cell_type": "code",
      "metadata": {
        "id": "JrwR_LcoOklf",
        "colab_type": "code",
        "colab": {
          "base_uri": "https://localhost:8080/",
          "height": 84
        },
        "outputId": "a5d80a58-972e-486b-e6e2-90413b2415d5"
      },
      "source": [
        "clf.predict(x)"
      ],
      "execution_count": 3,
      "outputs": [
        {
          "output_type": "execute_result",
          "data": {
            "text/plain": [
              "array([[0.97443328],\n",
              "       [0.03368372],\n",
              "       [0.02170065],\n",
              "       [0.97030031]])"
            ]
          },
          "metadata": {
            "tags": []
          },
          "execution_count": 3
        }
      ]
    },
    {
      "cell_type": "code",
      "metadata": {
        "id": "tM9HxzDkOrjB",
        "colab_type": "code",
        "colab": {}
      },
      "source": [
        ""
      ],
      "execution_count": 0,
      "outputs": []
    }
  ]
}